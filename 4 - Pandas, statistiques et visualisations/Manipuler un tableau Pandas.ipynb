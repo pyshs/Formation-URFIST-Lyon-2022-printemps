{
 "cells": [
  {
   "cell_type": "markdown",
   "metadata": {},
   "source": [
    "# Manipuler un tableau\n",
    "\n",
    "Pandas a différentes méthodes pour manipuler un tableau :\n",
    "\n",
    "- sur les colonnes\n",
    "- sur le tableau en entier\n",
    "\n",
    "En particulier la possibilité de sélectionner des sous éléments"
   ]
  },
  {
   "cell_type": "markdown",
   "metadata": {},
   "source": [
    "# Enquête sur la science ouverte\n",
    "\n",
    "Mariannig Le Béchec Aline Bouchard Philippe Charrier, Claire Denecker Gabriel Gallezot Stéphanie Rennes\n",
    "\n",
    "Rapport : https://hal.archives-ouvertes.fr/hal-03545512v1\n",
    "\n",
    "Réutilisation de données : https://zenodo.org/record/5827206\n"
   ]
  },
  {
   "cell_type": "markdown",
   "metadata": {},
   "source": [
    "## Importer Pandas et les données"
   ]
  },
  {
   "cell_type": "code",
   "execution_count": 1,
   "metadata": {},
   "outputs": [],
   "source": [
    "import pandas as pd"
   ]
  },
  {
   "cell_type": "code",
   "execution_count": 4,
   "metadata": {},
   "outputs": [],
   "source": [
    "df = pd.read_csv(\"https://raw.githubusercontent.com/pyshs/Formation-URFIST-Lyon-2022-printemps/main/Data/SOSP_Export.csv\")"
   ]
  },
  {
   "cell_type": "code",
   "execution_count": 5,
   "metadata": {},
   "outputs": [
    {
     "data": {
      "text/plain": [
       "pandas.core.frame.DataFrame"
      ]
     },
     "execution_count": 5,
     "metadata": {},
     "output_type": "execute_result"
    }
   ],
   "source": [
    "type(df)"
   ]
  },
  {
   "cell_type": "code",
   "execution_count": 13,
   "metadata": {},
   "outputs": [
    {
     "name": "stderr",
     "output_type": "stream",
     "text": [
      "/tmp/ipykernel_58615/1821743627.py:1: FutureWarning: As the xlwt package is no longer maintained, the xlwt engine will be removed in a future version of pandas. This is the only engine in pandas that supports writing in the xls format. Install openpyxl and write to an xlsx file instead. You can set the option io.excel.xls.writer to 'xlwt' to silence this warning. While this option is deprecated and will also raise a warning, it can be globally set and the warning suppressed.\n",
      "  df[[\"annee_premiere_publi\",\"Systeme_exploitation\"]].to_excel(\"colonnes.xls\")\n"
     ]
    }
   ],
   "source": [
    "df[[\"annee_premiere_publi\",\"Systeme_exploitation\"]].to_excel(\"colonnes.xls\")"
   ]
  },
  {
   "cell_type": "code",
   "execution_count": 12,
   "metadata": {},
   "outputs": [
    {
     "name": "stdout",
     "output_type": "stream",
     "text": [
      "Collecting xlwt\n",
      "  Using cached xlwt-1.3.0-py2.py3-none-any.whl (99 kB)\n",
      "Installing collected packages: xlwt\n",
      "Successfully installed xlwt-1.3.0\n",
      "Note: you may need to restart the kernel to use updated packages.\n"
     ]
    }
   ],
   "source": [
    "pip install xlwt"
   ]
  },
  {
   "cell_type": "markdown",
   "metadata": {},
   "source": [
    "## Accéder à un élément avec des conditions"
   ]
  },
  {
   "cell_type": "markdown",
   "metadata": {},
   "source": [
    "Accéder à un élément"
   ]
  },
  {
   "cell_type": "code",
   "execution_count": 15,
   "metadata": {},
   "outputs": [
    {
     "data": {
      "text/plain": [
       "'nous sommes entre 2 et 5 personnes'"
      ]
     },
     "execution_count": 15,
     "metadata": {},
     "output_type": "execute_result"
    }
   ],
   "source": [
    "df.loc[2,\"contexte_travail\"]"
   ]
  },
  {
   "cell_type": "code",
   "execution_count": 17,
   "metadata": {},
   "outputs": [
    {
     "data": {
      "text/plain": [
       "0        True\n",
       "1       False\n",
       "2       False\n",
       "3        True\n",
       "4       False\n",
       "        ...  \n",
       "1084    False\n",
       "1085     True\n",
       "1086     True\n",
       "1087     True\n",
       "1088    False\n",
       "Name: annee_premiere_publi, Length: 1089, dtype: bool"
      ]
     },
     "execution_count": 17,
     "metadata": {},
     "output_type": "execute_result"
    }
   ],
   "source": [
    "df[\"annee_premiere_publi\"] <= 2000"
   ]
  },
  {
   "cell_type": "code",
   "execution_count": 20,
   "metadata": {},
   "outputs": [
    {
     "data": {
      "text/plain": [
       "0                              Windows\n",
       "3       Windows;autres OS (Android...)\n",
       "6                              Windows\n",
       "7                  Windows;MacOS;Linux\n",
       "10                             Windows\n",
       "                     ...              \n",
       "1067                           Windows\n",
       "1073                           Windows\n",
       "1085                             Linux\n",
       "1086                           Windows\n",
       "1087                             Linux\n",
       "Name: Systeme_exploitation, Length: 429, dtype: object"
      ]
     },
     "execution_count": 20,
     "metadata": {},
     "output_type": "execute_result"
    }
   ],
   "source": [
    "df[df[\"annee_premiere_publi\"]<=2000][\"Systeme_exploitation\"]"
   ]
  },
  {
   "cell_type": "code",
   "execution_count": 29,
   "metadata": {},
   "outputs": [],
   "source": [
    "filtre1 = (df[\"annee_premiere_publi\"]<=2000) \n",
    "filtre2 = (df[\"Systeme_exploitation\"]==\"Linux\")\n",
    "filtre_total = filtre1 & filtre2"
   ]
  },
  {
   "cell_type": "code",
   "execution_count": 24,
   "metadata": {},
   "outputs": [
    {
     "data": {
      "text/plain": [
       "(51, 131)"
      ]
     },
     "execution_count": 24,
     "metadata": {},
     "output_type": "execute_result"
    }
   ],
   "source": [
    "df[filtre].shape"
   ]
  },
  {
   "cell_type": "markdown",
   "metadata": {},
   "source": [
    "Autres méthodes disponibles"
   ]
  },
  {
   "cell_type": "code",
   "execution_count": 28,
   "metadata": {},
   "outputs": [
    {
     "data": {
      "text/html": [
       "<div>\n",
       "<style scoped>\n",
       "    .dataframe tbody tr th:only-of-type {\n",
       "        vertical-align: middle;\n",
       "    }\n",
       "\n",
       "    .dataframe tbody tr th {\n",
       "        vertical-align: top;\n",
       "    }\n",
       "\n",
       "    .dataframe thead th {\n",
       "        text-align: right;\n",
       "    }\n",
       "</style>\n",
       "<table border=\"1\" class=\"dataframe\">\n",
       "  <thead>\n",
       "    <tr style=\"text-align: right;\">\n",
       "      <th></th>\n",
       "      <th>Id</th>\n",
       "      <th>contexte_travail</th>\n",
       "      <th>fonction_recherche</th>\n",
       "      <th>statut_professionnel</th>\n",
       "      <th>statut_professionnel_Autre</th>\n",
       "      <th>annee_premiere_publi</th>\n",
       "      <th>Systeme_exploitation</th>\n",
       "      <th>Usage_telephone_mobile</th>\n",
       "      <th>Outils_gestion_travail_av_confinement_visioconférence</th>\n",
       "      <th>Outils_gestion_travail_av_confinement_planification_RDV</th>\n",
       "      <th>...</th>\n",
       "      <th>Souhait_partage_donnees_produites_discipline</th>\n",
       "      <th>Souhait_partage_donnees_produites_pays_continent</th>\n",
       "      <th>Souhait_partage_donnees_produites_domaine_economique</th>\n",
       "      <th>Souhait_partage_donnees_produites_secteur_associatif</th>\n",
       "      <th>Souhait_partage_donnees_produites_sans_restriction</th>\n",
       "      <th>compatibilite_diffusion_partage</th>\n",
       "      <th>evolutions_pratiques_numeriques</th>\n",
       "      <th>sexe</th>\n",
       "      <th>disciplines_9niv</th>\n",
       "      <th>annee_de_naissance-recod10niv</th>\n",
       "    </tr>\n",
       "  </thead>\n",
       "  <tbody>\n",
       "    <tr>\n",
       "      <th>7</th>\n",
       "      <td>8</td>\n",
       "      <td>nous sommes entre 11 et 20 personnes</td>\n",
       "      <td>professeur / professeure des universités et as...</td>\n",
       "      <td>fonctionnaire ou assimilé</td>\n",
       "      <td>NaN</td>\n",
       "      <td>1991</td>\n",
       "      <td>Windows;MacOS;Linux</td>\n",
       "      <td>rarement</td>\n",
       "      <td>parfois</td>\n",
       "      <td>toujours</td>\n",
       "      <td>...</td>\n",
       "      <td>oui</td>\n",
       "      <td>oui</td>\n",
       "      <td>non</td>\n",
       "      <td>non</td>\n",
       "      <td>non</td>\n",
       "      <td>oui</td>\n",
       "      <td>NaN</td>\n",
       "      <td>une femme</td>\n",
       "      <td>Médecine</td>\n",
       "      <td>56 à 60 ans</td>\n",
       "    </tr>\n",
       "    <tr>\n",
       "      <th>12</th>\n",
       "      <td>13</td>\n",
       "      <td>nous sommes entre 2 et 5 personnes</td>\n",
       "      <td>ingénieur / ingénieure de recherche</td>\n",
       "      <td>en CDI</td>\n",
       "      <td>NaN</td>\n",
       "      <td>2010</td>\n",
       "      <td>Windows;Linux</td>\n",
       "      <td>jamais</td>\n",
       "      <td>rarement</td>\n",
       "      <td>parfois</td>\n",
       "      <td>...</td>\n",
       "      <td>oui</td>\n",
       "      <td>oui</td>\n",
       "      <td>oui</td>\n",
       "      <td>oui</td>\n",
       "      <td>oui</td>\n",
       "      <td>oui</td>\n",
       "      <td>sans doute, en fonction des besoins de mes col...</td>\n",
       "      <td>un homme</td>\n",
       "      <td>Médecine</td>\n",
       "      <td>36 à 40 ans</td>\n",
       "    </tr>\n",
       "    <tr>\n",
       "      <th>22</th>\n",
       "      <td>23</td>\n",
       "      <td>nous sommes entre 2 et 5 personnes</td>\n",
       "      <td>doctorant / doctorante (y compris CIFRE)</td>\n",
       "      <td>fonctionnaire ou assimilé</td>\n",
       "      <td>NaN</td>\n",
       "      <td>2020</td>\n",
       "      <td>Windows;Linux</td>\n",
       "      <td>jamais</td>\n",
       "      <td>rarement</td>\n",
       "      <td>souvent</td>\n",
       "      <td>...</td>\n",
       "      <td>oui</td>\n",
       "      <td>oui</td>\n",
       "      <td>oui</td>\n",
       "      <td>oui</td>\n",
       "      <td>oui</td>\n",
       "      <td>une fois la publication acceptée et publiée se...</td>\n",
       "      <td>mise à disposition des données sources\\npublic...</td>\n",
       "      <td>un homme</td>\n",
       "      <td>Médecine</td>\n",
       "      <td>31 à 35 ans</td>\n",
       "    </tr>\n",
       "    <tr>\n",
       "      <th>25</th>\n",
       "      <td>26</td>\n",
       "      <td>nous sommes entre 2 et 5 personnes</td>\n",
       "      <td>maître / maîtresse de conférences et assimilés</td>\n",
       "      <td>fonctionnaire ou assimilé</td>\n",
       "      <td>NaN</td>\n",
       "      <td>2006</td>\n",
       "      <td>Linux</td>\n",
       "      <td>rarement</td>\n",
       "      <td>parfois</td>\n",
       "      <td>rarement</td>\n",
       "      <td>...</td>\n",
       "      <td>non</td>\n",
       "      <td>non</td>\n",
       "      <td>non</td>\n",
       "      <td>non</td>\n",
       "      <td>non</td>\n",
       "      <td>Oui, elles font partie de la valorisation.</td>\n",
       "      <td>Non</td>\n",
       "      <td>une femme</td>\n",
       "      <td>Lettres et Arts</td>\n",
       "      <td>36 à 40 ans</td>\n",
       "    </tr>\n",
       "    <tr>\n",
       "      <th>27</th>\n",
       "      <td>28</td>\n",
       "      <td>nous sommes entre 2 et 5 personnes</td>\n",
       "      <td>maître / maîtresse de conférences et assimilés</td>\n",
       "      <td>fonctionnaire ou assimilé</td>\n",
       "      <td>NaN</td>\n",
       "      <td>2008</td>\n",
       "      <td>Linux</td>\n",
       "      <td>jamais</td>\n",
       "      <td>parfois</td>\n",
       "      <td>souvent</td>\n",
       "      <td>...</td>\n",
       "      <td>oui</td>\n",
       "      <td>oui</td>\n",
       "      <td>oui</td>\n",
       "      <td>oui</td>\n",
       "      <td>oui</td>\n",
       "      <td>Oui, et ça me paraît surtout un impératif scie...</td>\n",
       "      <td>NaN</td>\n",
       "      <td>une femme</td>\n",
       "      <td>Sciences humaines</td>\n",
       "      <td>36 à 40 ans</td>\n",
       "    </tr>\n",
       "    <tr>\n",
       "      <th>...</th>\n",
       "      <td>...</td>\n",
       "      <td>...</td>\n",
       "      <td>...</td>\n",
       "      <td>...</td>\n",
       "      <td>...</td>\n",
       "      <td>...</td>\n",
       "      <td>...</td>\n",
       "      <td>...</td>\n",
       "      <td>...</td>\n",
       "      <td>...</td>\n",
       "      <td>...</td>\n",
       "      <td>...</td>\n",
       "      <td>...</td>\n",
       "      <td>...</td>\n",
       "      <td>...</td>\n",
       "      <td>...</td>\n",
       "      <td>...</td>\n",
       "      <td>...</td>\n",
       "      <td>...</td>\n",
       "      <td>...</td>\n",
       "      <td>...</td>\n",
       "    </tr>\n",
       "    <tr>\n",
       "      <th>1070</th>\n",
       "      <td>1071</td>\n",
       "      <td>nous sommes entre 6 et 10 personnes</td>\n",
       "      <td>ingénieur / ingénieure de recherche</td>\n",
       "      <td>fonctionnaire ou assimilé</td>\n",
       "      <td>NaN</td>\n",
       "      <td>2006</td>\n",
       "      <td>Linux</td>\n",
       "      <td>jamais</td>\n",
       "      <td>rarement</td>\n",
       "      <td>parfois</td>\n",
       "      <td>...</td>\n",
       "      <td>oui</td>\n",
       "      <td>oui</td>\n",
       "      <td>oui</td>\n",
       "      <td>oui</td>\n",
       "      <td>oui</td>\n",
       "      <td>La diffusion des données est en soit un mode d...</td>\n",
       "      <td>Difficile à dire. En l'absence de mise à dispo...</td>\n",
       "      <td>une femme</td>\n",
       "      <td>Physique, Sciences de la terre et de l'Univers</td>\n",
       "      <td>41 à 45 ans</td>\n",
       "    </tr>\n",
       "    <tr>\n",
       "      <th>1080</th>\n",
       "      <td>1081</td>\n",
       "      <td>nous sommes entre 6 et 10 personnes</td>\n",
       "      <td>ingénieur / ingénieure d'études</td>\n",
       "      <td>fonctionnaire ou assimilé</td>\n",
       "      <td>NaN</td>\n",
       "      <td>2003</td>\n",
       "      <td>Linux</td>\n",
       "      <td>jamais</td>\n",
       "      <td>souvent</td>\n",
       "      <td>souvent</td>\n",
       "      <td>...</td>\n",
       "      <td>oui</td>\n",
       "      <td>oui</td>\n",
       "      <td>oui</td>\n",
       "      <td>oui</td>\n",
       "      <td>oui</td>\n",
       "      <td>Le partage et la diffusion fait intégralement ...</td>\n",
       "      <td>Evolution vers une FAIRification des données e...</td>\n",
       "      <td>un homme</td>\n",
       "      <td>Mathématiques, Informatiques</td>\n",
       "      <td>41 à 45 ans</td>\n",
       "    </tr>\n",
       "    <tr>\n",
       "      <th>1085</th>\n",
       "      <td>1086</td>\n",
       "      <td>nous sommes entre 2 et 5 personnes</td>\n",
       "      <td>chargé / chargée de recherche (CNRS, INSERM, I...</td>\n",
       "      <td>fonctionnaire ou assimilé</td>\n",
       "      <td>NaN</td>\n",
       "      <td>1987</td>\n",
       "      <td>Linux</td>\n",
       "      <td>jamais</td>\n",
       "      <td>rarement</td>\n",
       "      <td>rarement</td>\n",
       "      <td>...</td>\n",
       "      <td>oui</td>\n",
       "      <td>oui</td>\n",
       "      <td>oui</td>\n",
       "      <td>oui</td>\n",
       "      <td>oui</td>\n",
       "      <td>je ne pratique pas des 'activités de valorisat...</td>\n",
       "      <td>je vais prendre ma retraite</td>\n",
       "      <td>un homme</td>\n",
       "      <td>NaN</td>\n",
       "      <td>61 à 65 ans</td>\n",
       "    </tr>\n",
       "    <tr>\n",
       "      <th>1087</th>\n",
       "      <td>1088</td>\n",
       "      <td>nous sommes entre 2 et 5 personnes</td>\n",
       "      <td>directeur / directrice de recherche (CNRS, INS...</td>\n",
       "      <td>fonctionnaire ou assimilé</td>\n",
       "      <td>NaN</td>\n",
       "      <td>1982</td>\n",
       "      <td>Linux</td>\n",
       "      <td>jamais</td>\n",
       "      <td>rarement</td>\n",
       "      <td>souvent</td>\n",
       "      <td>...</td>\n",
       "      <td>oui</td>\n",
       "      <td>oui</td>\n",
       "      <td>non</td>\n",
       "      <td>non</td>\n",
       "      <td>non</td>\n",
       "      <td>Je ne sais pas vraiment repondre a ces questio...</td>\n",
       "      <td>Je ne sais pas</td>\n",
       "      <td>une femme</td>\n",
       "      <td>NaN</td>\n",
       "      <td>61 à 65 ans</td>\n",
       "    </tr>\n",
       "    <tr>\n",
       "      <th>1088</th>\n",
       "      <td>1089</td>\n",
       "      <td>nous sommes entre 2 et 5 personnes</td>\n",
       "      <td>maître / maîtresse de conférences et assimilés</td>\n",
       "      <td>fonctionnaire ou assimilé</td>\n",
       "      <td>NaN</td>\n",
       "      <td>2011</td>\n",
       "      <td>Windows;Linux</td>\n",
       "      <td>rarement</td>\n",
       "      <td>parfois</td>\n",
       "      <td>souvent</td>\n",
       "      <td>...</td>\n",
       "      <td>oui</td>\n",
       "      <td>oui</td>\n",
       "      <td>oui</td>\n",
       "      <td>oui</td>\n",
       "      <td>oui</td>\n",
       "      <td>Oui</td>\n",
       "      <td>Oui, vers plus d'ouverture mais je ne sais pas...</td>\n",
       "      <td>je ne souhaite pas répondre</td>\n",
       "      <td>NaN</td>\n",
       "      <td>36 à 40 ans</td>\n",
       "    </tr>\n",
       "  </tbody>\n",
       "</table>\n",
       "<p>327 rows × 131 columns</p>\n",
       "</div>"
      ],
      "text/plain": [
       "        Id                      contexte_travail  \\\n",
       "7        8  nous sommes entre 11 et 20 personnes   \n",
       "12      13    nous sommes entre 2 et 5 personnes   \n",
       "22      23    nous sommes entre 2 et 5 personnes   \n",
       "25      26    nous sommes entre 2 et 5 personnes   \n",
       "27      28    nous sommes entre 2 et 5 personnes   \n",
       "...    ...                                   ...   \n",
       "1070  1071   nous sommes entre 6 et 10 personnes   \n",
       "1080  1081   nous sommes entre 6 et 10 personnes   \n",
       "1085  1086    nous sommes entre 2 et 5 personnes   \n",
       "1087  1088    nous sommes entre 2 et 5 personnes   \n",
       "1088  1089    nous sommes entre 2 et 5 personnes   \n",
       "\n",
       "                                     fonction_recherche  \\\n",
       "7     professeur / professeure des universités et as...   \n",
       "12                  ingénieur / ingénieure de recherche   \n",
       "22             doctorant / doctorante (y compris CIFRE)   \n",
       "25       maître / maîtresse de conférences et assimilés   \n",
       "27       maître / maîtresse de conférences et assimilés   \n",
       "...                                                 ...   \n",
       "1070                ingénieur / ingénieure de recherche   \n",
       "1080                    ingénieur / ingénieure d'études   \n",
       "1085  chargé / chargée de recherche (CNRS, INSERM, I...   \n",
       "1087  directeur / directrice de recherche (CNRS, INS...   \n",
       "1088     maître / maîtresse de conférences et assimilés   \n",
       "\n",
       "           statut_professionnel statut_professionnel_Autre  \\\n",
       "7     fonctionnaire ou assimilé                        NaN   \n",
       "12                       en CDI                        NaN   \n",
       "22    fonctionnaire ou assimilé                        NaN   \n",
       "25    fonctionnaire ou assimilé                        NaN   \n",
       "27    fonctionnaire ou assimilé                        NaN   \n",
       "...                         ...                        ...   \n",
       "1070  fonctionnaire ou assimilé                        NaN   \n",
       "1080  fonctionnaire ou assimilé                        NaN   \n",
       "1085  fonctionnaire ou assimilé                        NaN   \n",
       "1087  fonctionnaire ou assimilé                        NaN   \n",
       "1088  fonctionnaire ou assimilé                        NaN   \n",
       "\n",
       "      annee_premiere_publi Systeme_exploitation Usage_telephone_mobile  \\\n",
       "7                     1991  Windows;MacOS;Linux               rarement   \n",
       "12                    2010        Windows;Linux                 jamais   \n",
       "22                    2020        Windows;Linux                 jamais   \n",
       "25                    2006                Linux               rarement   \n",
       "27                    2008                Linux                 jamais   \n",
       "...                    ...                  ...                    ...   \n",
       "1070                  2006                Linux                 jamais   \n",
       "1080                  2003                Linux                 jamais   \n",
       "1085                  1987                Linux                 jamais   \n",
       "1087                  1982                Linux                 jamais   \n",
       "1088                  2011        Windows;Linux               rarement   \n",
       "\n",
       "     Outils_gestion_travail_av_confinement_visioconférence  \\\n",
       "7                                               parfois      \n",
       "12                                             rarement      \n",
       "22                                             rarement      \n",
       "25                                              parfois      \n",
       "27                                              parfois      \n",
       "...                                                 ...      \n",
       "1070                                           rarement      \n",
       "1080                                            souvent      \n",
       "1085                                           rarement      \n",
       "1087                                           rarement      \n",
       "1088                                            parfois      \n",
       "\n",
       "     Outils_gestion_travail_av_confinement_planification_RDV  ...  \\\n",
       "7                                              toujours       ...   \n",
       "12                                              parfois       ...   \n",
       "22                                              souvent       ...   \n",
       "25                                             rarement       ...   \n",
       "27                                              souvent       ...   \n",
       "...                                                 ...       ...   \n",
       "1070                                            parfois       ...   \n",
       "1080                                            souvent       ...   \n",
       "1085                                           rarement       ...   \n",
       "1087                                            souvent       ...   \n",
       "1088                                            souvent       ...   \n",
       "\n",
       "     Souhait_partage_donnees_produites_discipline  \\\n",
       "7                                             oui   \n",
       "12                                            oui   \n",
       "22                                            oui   \n",
       "25                                            non   \n",
       "27                                            oui   \n",
       "...                                           ...   \n",
       "1070                                          oui   \n",
       "1080                                          oui   \n",
       "1085                                          oui   \n",
       "1087                                          oui   \n",
       "1088                                          oui   \n",
       "\n",
       "     Souhait_partage_donnees_produites_pays_continent  \\\n",
       "7                                                 oui   \n",
       "12                                                oui   \n",
       "22                                                oui   \n",
       "25                                                non   \n",
       "27                                                oui   \n",
       "...                                               ...   \n",
       "1070                                              oui   \n",
       "1080                                              oui   \n",
       "1085                                              oui   \n",
       "1087                                              oui   \n",
       "1088                                              oui   \n",
       "\n",
       "     Souhait_partage_donnees_produites_domaine_economique  \\\n",
       "7                                                   non     \n",
       "12                                                  oui     \n",
       "22                                                  oui     \n",
       "25                                                  non     \n",
       "27                                                  oui     \n",
       "...                                                 ...     \n",
       "1070                                                oui     \n",
       "1080                                                oui     \n",
       "1085                                                oui     \n",
       "1087                                                non     \n",
       "1088                                                oui     \n",
       "\n",
       "     Souhait_partage_donnees_produites_secteur_associatif  \\\n",
       "7                                                   non     \n",
       "12                                                  oui     \n",
       "22                                                  oui     \n",
       "25                                                  non     \n",
       "27                                                  oui     \n",
       "...                                                 ...     \n",
       "1070                                                oui     \n",
       "1080                                                oui     \n",
       "1085                                                oui     \n",
       "1087                                                non     \n",
       "1088                                                oui     \n",
       "\n",
       "     Souhait_partage_donnees_produites_sans_restriction  \\\n",
       "7                                                   non   \n",
       "12                                                  oui   \n",
       "22                                                  oui   \n",
       "25                                                  non   \n",
       "27                                                  oui   \n",
       "...                                                 ...   \n",
       "1070                                                oui   \n",
       "1080                                                oui   \n",
       "1085                                                oui   \n",
       "1087                                                non   \n",
       "1088                                                oui   \n",
       "\n",
       "                        compatibilite_diffusion_partage  \\\n",
       "7                                                   oui   \n",
       "12                                                  oui   \n",
       "22    une fois la publication acceptée et publiée se...   \n",
       "25           Oui, elles font partie de la valorisation.   \n",
       "27    Oui, et ça me paraît surtout un impératif scie...   \n",
       "...                                                 ...   \n",
       "1070  La diffusion des données est en soit un mode d...   \n",
       "1080  Le partage et la diffusion fait intégralement ...   \n",
       "1085  je ne pratique pas des 'activités de valorisat...   \n",
       "1087  Je ne sais pas vraiment repondre a ces questio...   \n",
       "1088                                                Oui   \n",
       "\n",
       "                        evolutions_pratiques_numeriques  \\\n",
       "7                                                   NaN   \n",
       "12    sans doute, en fonction des besoins de mes col...   \n",
       "22    mise à disposition des données sources\\npublic...   \n",
       "25                                                  Non   \n",
       "27                                                  NaN   \n",
       "...                                                 ...   \n",
       "1070  Difficile à dire. En l'absence de mise à dispo...   \n",
       "1080  Evolution vers une FAIRification des données e...   \n",
       "1085                        je vais prendre ma retraite   \n",
       "1087                                     Je ne sais pas   \n",
       "1088  Oui, vers plus d'ouverture mais je ne sais pas...   \n",
       "\n",
       "                             sexe  \\\n",
       "7                       une femme   \n",
       "12                       un homme   \n",
       "22                       un homme   \n",
       "25                      une femme   \n",
       "27                      une femme   \n",
       "...                           ...   \n",
       "1070                    une femme   \n",
       "1080                     un homme   \n",
       "1085                     un homme   \n",
       "1087                    une femme   \n",
       "1088  je ne souhaite pas répondre   \n",
       "\n",
       "                                    disciplines_9niv  \\\n",
       "7                                           Médecine   \n",
       "12                                          Médecine   \n",
       "22                                          Médecine   \n",
       "25                                   Lettres et Arts   \n",
       "27                                 Sciences humaines   \n",
       "...                                              ...   \n",
       "1070  Physique, Sciences de la terre et de l'Univers   \n",
       "1080                    Mathématiques, Informatiques   \n",
       "1085                                             NaN   \n",
       "1087                                             NaN   \n",
       "1088                                             NaN   \n",
       "\n",
       "     annee_de_naissance-recod10niv  \n",
       "7                      56 à 60 ans  \n",
       "12                     36 à 40 ans  \n",
       "22                     31 à 35 ans  \n",
       "25                     36 à 40 ans  \n",
       "27                     36 à 40 ans  \n",
       "...                            ...  \n",
       "1070                   41 à 45 ans  \n",
       "1080                   41 à 45 ans  \n",
       "1085                   61 à 65 ans  \n",
       "1087                   61 à 65 ans  \n",
       "1088                   36 à 40 ans  \n",
       "\n",
       "[327 rows x 131 columns]"
      ]
     },
     "execution_count": 28,
     "metadata": {},
     "output_type": "execute_result"
    }
   ],
   "source": [
    "df[df[\"Systeme_exploitation\"].str.contains(\"Linux|Unix\")]"
   ]
  },
  {
   "cell_type": "markdown",
   "metadata": {},
   "source": [
    "## Méthodes d'analyse sur les colonnes"
   ]
  },
  {
   "cell_type": "markdown",
   "metadata": {},
   "source": [
    "### Statistiques de base sur la colonne numériques \n",
    "\n"
   ]
  },
  {
   "cell_type": "code",
   "execution_count": 33,
   "metadata": {},
   "outputs": [
    {
     "data": {
      "text/plain": [
       "2004.030303030303"
      ]
     },
     "execution_count": 33,
     "metadata": {},
     "output_type": "execute_result"
    }
   ],
   "source": [
    "df[\"annee_premiere_publi\"].mean()"
   ]
  },
  {
   "cell_type": "code",
   "execution_count": 34,
   "metadata": {},
   "outputs": [
    {
     "data": {
      "text/plain": [
       "11.362671081996828"
      ]
     },
     "execution_count": 34,
     "metadata": {},
     "output_type": "execute_result"
    }
   ],
   "source": [
    "df[\"annee_premiere_publi\"].std()"
   ]
  },
  {
   "cell_type": "code",
   "execution_count": 35,
   "metadata": {},
   "outputs": [
    {
     "data": {
      "text/plain": [
       "count    1089.000000\n",
       "mean     2004.030303\n",
       "std        11.362671\n",
       "min      1968.000000\n",
       "25%      1996.000000\n",
       "50%      2005.000000\n",
       "75%      2014.000000\n",
       "max      2020.000000\n",
       "Name: annee_premiere_publi, dtype: float64"
      ]
     },
     "execution_count": 35,
     "metadata": {},
     "output_type": "execute_result"
    }
   ],
   "source": [
    "df[\"annee_premiere_publi\"].describe()"
   ]
  },
  {
   "cell_type": "code",
   "execution_count": 37,
   "metadata": {},
   "outputs": [
    {
     "data": {
      "text/plain": [
       "1992.2745098039215"
      ]
     },
     "execution_count": 37,
     "metadata": {},
     "output_type": "execute_result"
    }
   ],
   "source": [
    "df[filtre_total][\"annee_premiere_publi\"].mean()"
   ]
  },
  {
   "cell_type": "markdown",
   "metadata": {},
   "source": [
    "### Statistiques de base sur des colonnes qualitatives"
   ]
  },
  {
   "cell_type": "code",
   "execution_count": 41,
   "metadata": {},
   "outputs": [
    {
     "data": {
      "text/plain": [
       "array(['Windows', 'Windows;autres OS (Android...)', 'MacOS',\n",
       "       'Windows;MacOS;Linux', 'Windows;Linux', 'autres OS (Android...)',\n",
       "       'Windows;MacOS', 'Linux', 'MacOS;Linux',\n",
       "       'Linux;autres OS (Android...)',\n",
       "       'Windows;MacOS;autres OS (Android...)',\n",
       "       'Windows;Linux;autres OS (Android...)',\n",
       "       'MacOS;Linux;autres OS (Android...)',\n",
       "       'MacOS;autres OS (Android...)', 'autres Unix',\n",
       "       'Windows;Linux;autres Unix',\n",
       "       'Windows;MacOS;Linux;autres OS (Android...)',\n",
       "       'Windows;autres Unix', 'Linux;autres Unix;autres OS (Android...)',\n",
       "       'MacOS;Linux;autres Unix;autres OS (Android...)',\n",
       "       'Linux;autres Unix', 'MacOS;autres Unix'], dtype=object)"
      ]
     },
     "execution_count": 41,
     "metadata": {},
     "output_type": "execute_result"
    }
   ],
   "source": [
    "df[\"Systeme_exploitation\"].unique()"
   ]
  },
  {
   "cell_type": "code",
   "execution_count": 42,
   "metadata": {},
   "outputs": [
    {
     "data": {
      "text/plain": [
       "Windows                                           476\n",
       "MacOS                                             186\n",
       "Linux                                             146\n",
       "Windows;Linux                                      82\n",
       "Windows;MacOS                                      67\n",
       "MacOS;Linux                                        38\n",
       "Windows;MacOS;Linux                                25\n",
       "Windows;autres OS (Android...)                     17\n",
       "Windows;MacOS;autres OS (Android...)               11\n",
       "Linux;autres OS (Android...)                        9\n",
       "Windows;MacOS;Linux;autres OS (Android...)          7\n",
       "Windows;Linux;autres OS (Android...)                7\n",
       "autres OS (Android...)                              3\n",
       "MacOS;Linux;autres OS (Android...)                  2\n",
       "MacOS;autres OS (Android...)                        2\n",
       "autres Unix                                         2\n",
       "Windows;Linux;autres Unix                           2\n",
       "Windows;autres Unix                                 2\n",
       "Linux;autres Unix                                   2\n",
       "Linux;autres Unix;autres OS (Android...)            1\n",
       "MacOS;Linux;autres Unix;autres OS (Android...)      1\n",
       "MacOS;autres Unix                                   1\n",
       "Name: Systeme_exploitation, dtype: int64"
      ]
     },
     "execution_count": 42,
     "metadata": {},
     "output_type": "execute_result"
    }
   ],
   "source": [
    "df[\"Systeme_exploitation\"].value_counts()"
   ]
  },
  {
   "cell_type": "markdown",
   "metadata": {},
   "source": [
    "Créer une nouvelle colonne qui prend vrai si Linux est utilisé sinon faux"
   ]
  },
  {
   "cell_type": "code",
   "execution_count": 46,
   "metadata": {},
   "outputs": [],
   "source": [
    "df[\"utilise_linux\"] = df[\"Systeme_exploitation\"].str.contains(\"Linux\")\n",
    "df[\"utilise_que_linux\"] = df[\"Systeme_exploitation\"]==\"Linux\""
   ]
  },
  {
   "cell_type": "code",
   "execution_count": 51,
   "metadata": {},
   "outputs": [
    {
     "data": {
      "text/html": [
       "<div>\n",
       "<style scoped>\n",
       "    .dataframe tbody tr th:only-of-type {\n",
       "        vertical-align: middle;\n",
       "    }\n",
       "\n",
       "    .dataframe tbody tr th {\n",
       "        vertical-align: top;\n",
       "    }\n",
       "\n",
       "    .dataframe thead th {\n",
       "        text-align: right;\n",
       "    }\n",
       "</style>\n",
       "<table border=\"1\" class=\"dataframe\">\n",
       "  <thead>\n",
       "    <tr style=\"text-align: right;\">\n",
       "      <th>utilise_que_linux</th>\n",
       "      <th>False</th>\n",
       "      <th>True</th>\n",
       "    </tr>\n",
       "    <tr>\n",
       "      <th>utilise_linux</th>\n",
       "      <th></th>\n",
       "      <th></th>\n",
       "    </tr>\n",
       "  </thead>\n",
       "  <tbody>\n",
       "    <tr>\n",
       "      <th>False</th>\n",
       "      <td>767</td>\n",
       "      <td>0</td>\n",
       "    </tr>\n",
       "    <tr>\n",
       "      <th>True</th>\n",
       "      <td>176</td>\n",
       "      <td>146</td>\n",
       "    </tr>\n",
       "  </tbody>\n",
       "</table>\n",
       "</div>"
      ],
      "text/plain": [
       "utilise_que_linux  False  True\n",
       "utilise_linux                 \n",
       "False                767     0\n",
       "True                 176   146"
      ]
     },
     "execution_count": 51,
     "metadata": {},
     "output_type": "execute_result"
    }
   ],
   "source": [
    "pd.crosstab(df[\"utilise_linux\"],df[\"utilise_que_linux\"])"
   ]
  },
  {
   "cell_type": "markdown",
   "metadata": {},
   "source": [
    "### Les valeurs manquantes"
   ]
  },
  {
   "cell_type": "code",
   "execution_count": 50,
   "metadata": {},
   "outputs": [
    {
     "data": {
      "text/plain": [
       "0"
      ]
     },
     "execution_count": 50,
     "metadata": {},
     "output_type": "execute_result"
    }
   ],
   "source": [
    "pd.isnull(df[\"Systeme_exploitation\"]).sum()"
   ]
  },
  {
   "cell_type": "markdown",
   "metadata": {},
   "source": [
    "### Fonctions avancées"
   ]
  },
  {
   "cell_type": "code",
   "execution_count": 54,
   "metadata": {},
   "outputs": [
    {
     "data": {
      "text/plain": [
       "utilise_linux\n",
       "False    2003.726206\n",
       "True     2004.754658\n",
       "Name: annee_premiere_publi, dtype: float64"
      ]
     },
     "execution_count": 54,
     "metadata": {},
     "output_type": "execute_result"
    }
   ],
   "source": [
    "df.groupby(\"utilise_linux\")[\"annee_premiere_publi\"].mean()"
   ]
  },
  {
   "cell_type": "markdown",
   "metadata": {},
   "source": [
    "## Les visualisations \"out of the box\"\n"
   ]
  },
  {
   "cell_type": "code",
   "execution_count": 57,
   "metadata": {},
   "outputs": [
    {
     "data": {
      "text/plain": [
       "<AxesSubplot:title={'center':'Histogramme'}, ylabel='Frequency'>"
      ]
     },
     "execution_count": 57,
     "metadata": {},
     "output_type": "execute_result"
    },
    {
     "data": {
      "image/png": "[encoded data removed]",
      "text/plain": [
       "<Figure size 432x288 with 1 Axes>"
      ]
     },
     "metadata": {
      "needs_background": "light"
     },
     "output_type": "display_data"
    }
   ],
   "source": [
    "df[\"annee_premiere_publi\"].plot(kind=\"hist\",bins=10,\n",
    "                                title = \"Histogramme\",\n",
    "                                color = \"orange\")"
   ]
  },
  {
   "cell_type": "code",
   "execution_count": 61,
   "metadata": {},
   "outputs": [
    {
     "data": {
      "text/plain": [
       "<AxesSubplot:>"
      ]
     },
     "execution_count": 61,
     "metadata": {},
     "output_type": "execute_result"
    },
    {
     "data": {
      "image/png": "[encoded data removed]",
      "text/plain": [
       "<Figure size 432x288 with 1 Axes>"
      ]
     },
     "metadata": {
      "needs_background": "light"
     },
     "output_type": "display_data"
    }
   ],
   "source": [
    "df[\"utilise_linux\"].value_counts(normalize=True).plot(kind=\"bar\")"
   ]
  }
 ],
 "metadata": {
  "kernelspec": {
   "display_name": "Python 3 (ipykernel)",
   "language": "python",
   "name": "python3"
  },
  "language_info": {
   "codemirror_mode": {
    "name": "ipython",
    "version": 3
   },
   "file_extension": ".py",
   "mimetype": "text/x-python",
   "name": "python",
   "nbconvert_exporter": "python",
   "pygments_lexer": "ipython3",
   "version": "3.9.12"
  }
 },
 "nbformat": 4,
 "nbformat_minor": 4
}
