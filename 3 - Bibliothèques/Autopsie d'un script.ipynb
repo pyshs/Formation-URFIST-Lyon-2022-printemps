{
 "cells": [
  {
   "cell_type": "markdown",
   "id": "cd4d3c30",
   "metadata": {},
   "source": [
    "# Premier Notebook\n",
    "\n",
    "Autopsie d'un **script**"
   ]
  },
  {
   "cell_type": "code",
   "execution_count": 101,
   "id": "3a803c9b",
   "metadata": {
    "scrolled": true
   },
   "outputs": [
    {
     "name": "stdout",
     "output_type": "stream",
     "text": [
      "Écrivez une phrase: Ceci est ma nouvelle phrase\n",
      "Ceci est ma nouvelle phrase\n",
      "['Ceci', 'est', 'ma', 'nouvelle', 'phrase']\n",
      "5\n",
      "Proportion de mots avec 5 lettres ou plus : 40.0\n"
     ]
    }
   ],
   "source": [
    "# on crée une nouvelle variable\n",
    "nombre_mots = 0\n",
    "\n",
    "# on crée une nouvelle variable\n",
    "sortie_fichier = True\n",
    "\n",
    "# Demander une phrase à l'utilisateur\n",
    "phrase = input(\"Écrivez une phrase: \")\n",
    "print(phrase)\n",
    "# Découper la phrase en mot\n",
    "liste_mots = phrase.split(\" \")\n",
    "print(liste_mots)\n",
    "# Créer une nouvelle variable nombre_mots\n",
    "nombre_mots = len(liste_mots)\n",
    "print(nombre_mots)\n",
    "# Créer une nouvelle variable nombre_min_lettres\n",
    "nombre_min_lettres = 5\n",
    "\n",
    "# Vérifier si la phrase rentrée n'est pas vide\n",
    "if nombre_mots == 0:\n",
    "    print(    \"La liste est vide\"    )\n",
    "\n",
    "# si la liste n'est pas vide\n",
    "else:\n",
    "\n",
    "    # compter le nombre de mots de plus de X lettres\n",
    "    compteur = 0 # compteur à 0\n",
    "    for i in liste_mots: # on prend chaque mot de la liste\n",
    "        if len(i) >= nombre_min_lettres: # s'il a plus de X lettres\n",
    "            compteur+=1 # on augmente le compteur\n",
    "            \n",
    "    # Calcul la proportion de mots de plus de X lettres\n",
    "    proportion = round(100*compteur/nombre_mots,2)\n",
    "    \n",
    "    # Créer un dictionnaire qui résume les informations\n",
    "    informations = {\"Total\":compteur,\"Proportion\":proportion,\n",
    "                   \"Phrase\":phrase,\"Seuil\":nombre_min_lettres}\n",
    "    \n",
    "    # Mets en forme la sortie\n",
    "    sortie = f\"Proportion de mots avec {nombre_min_lettres} lettres ou plus : {proportion}\"\n",
    "    \n",
    "    # Affiche la sortie\n",
    "    print(sortie)\n",
    "    \n",
    "    # Écriture disque\n",
    "    if sortie_fichier:\n",
    "        with open(\"resultat.txt\",\"w\") as f:\n",
    "            f.write(str(informations))"
   ]
  },
  {
   "cell_type": "markdown",
   "id": "9a72f717",
   "metadata": {},
   "source": [
    "## Lecture ligne à ligne"
   ]
  },
  {
   "cell_type": "markdown",
   "id": "805ee989",
   "metadata": {},
   "source": [
    "### Première ligne"
   ]
  },
  {
   "cell_type": "code",
   "execution_count": 4,
   "id": "9cb8fc95",
   "metadata": {},
   "outputs": [],
   "source": [
    "nombre_mots = 1"
   ]
  },
  {
   "cell_type": "code",
   "execution_count": 5,
   "id": "b112b15d",
   "metadata": {},
   "outputs": [
    {
     "data": {
      "text/plain": [
       "11"
      ]
     },
     "execution_count": 5,
     "metadata": {},
     "output_type": "execute_result"
    }
   ],
   "source": [
    "nombre_mots + 10"
   ]
  },
  {
   "cell_type": "code",
   "execution_count": 6,
   "id": "b83f56e9",
   "metadata": {},
   "outputs": [
    {
     "data": {
      "text/plain": [
       "int"
      ]
     },
     "execution_count": 6,
     "metadata": {},
     "output_type": "execute_result"
    }
   ],
   "source": [
    "type(nombre_mots)"
   ]
  },
  {
   "cell_type": "code",
   "execution_count": 7,
   "id": "154e61d3",
   "metadata": {},
   "outputs": [],
   "source": [
    "x = 0"
   ]
  },
  {
   "cell_type": "code",
   "execution_count": 8,
   "id": "f4df5829",
   "metadata": {},
   "outputs": [
    {
     "data": {
      "text/plain": [
       "0"
      ]
     },
     "execution_count": 8,
     "metadata": {},
     "output_type": "execute_result"
    }
   ],
   "source": [
    "x"
   ]
  },
  {
   "cell_type": "markdown",
   "id": "104de4e9",
   "metadata": {},
   "source": [
    "### Deuxième ligne"
   ]
  },
  {
   "cell_type": "code",
   "execution_count": 10,
   "id": "b6cba456",
   "metadata": {},
   "outputs": [],
   "source": [
    "sortie_fichier = True "
   ]
  },
  {
   "cell_type": "code",
   "execution_count": 11,
   "id": "45a4402f",
   "metadata": {},
   "outputs": [
    {
     "data": {
      "text/plain": [
       "bool"
      ]
     },
     "execution_count": 11,
     "metadata": {},
     "output_type": "execute_result"
    }
   ],
   "source": [
    "type(sortie_fichier)"
   ]
  },
  {
   "cell_type": "markdown",
   "id": "444b084f",
   "metadata": {},
   "source": [
    "Parenthèse\n",
    "\n",
    "Le type vide"
   ]
  },
  {
   "cell_type": "code",
   "execution_count": 13,
   "id": "5d7cb6e7",
   "metadata": {},
   "outputs": [
    {
     "data": {
      "text/plain": [
       "NoneType"
      ]
     },
     "execution_count": 13,
     "metadata": {},
     "output_type": "execute_result"
    }
   ],
   "source": [
    "type(None)"
   ]
  },
  {
   "cell_type": "code",
   "execution_count": 14,
   "id": "1ceccf4e",
   "metadata": {},
   "outputs": [],
   "source": [
    "un_nombre = 10.34"
   ]
  },
  {
   "cell_type": "code",
   "execution_count": 15,
   "id": "98f3f9d2",
   "metadata": {},
   "outputs": [
    {
     "data": {
      "text/plain": [
       "float"
      ]
     },
     "execution_count": 15,
     "metadata": {},
     "output_type": "execute_result"
    }
   ],
   "source": [
    "type(un_nombre)"
   ]
  },
  {
   "cell_type": "markdown",
   "id": "7f008cdf",
   "metadata": {},
   "source": [
    "Parenthèse"
   ]
  },
  {
   "cell_type": "code",
   "execution_count": 16,
   "id": "69da88e2",
   "metadata": {},
   "outputs": [
    {
     "data": {
      "text/plain": [
       "20.5"
      ]
     },
     "execution_count": 16,
     "metadata": {},
     "output_type": "execute_result"
    }
   ],
   "source": [
    "var1 = 10\n",
    "var2 = 10.5\n",
    "var1 + var2"
   ]
  },
  {
   "cell_type": "markdown",
   "id": "614e58bf",
   "metadata": {},
   "source": [
    "### Troisième ligne"
   ]
  },
  {
   "cell_type": "code",
   "execution_count": 21,
   "id": "7319cb16",
   "metadata": {},
   "outputs": [
    {
     "name": "stdout",
     "output_type": "stream",
     "text": [
      "Écrivez une phrase: Rentre ma phrase\n"
     ]
    }
   ],
   "source": [
    "phrase = input(\"Écrivez une phrase: \")"
   ]
  },
  {
   "cell_type": "code",
   "execution_count": 22,
   "id": "59f2f366",
   "metadata": {},
   "outputs": [
    {
     "data": {
      "text/plain": [
       "'Rentre ma phrase'"
      ]
     },
     "execution_count": 22,
     "metadata": {},
     "output_type": "execute_result"
    }
   ],
   "source": [
    "phrase"
   ]
  },
  {
   "cell_type": "code",
   "execution_count": 23,
   "id": "8a05843a",
   "metadata": {},
   "outputs": [
    {
     "data": {
      "text/plain": [
       "str"
      ]
     },
     "execution_count": 23,
     "metadata": {},
     "output_type": "execute_result"
    }
   ],
   "source": [
    "type(phrase)"
   ]
  },
  {
   "cell_type": "markdown",
   "id": "b909a29a",
   "metadata": {},
   "source": [
    "Chaine de caractères"
   ]
  },
  {
   "cell_type": "code",
   "execution_count": 24,
   "id": "12adf2db",
   "metadata": {},
   "outputs": [
    {
     "data": {
      "text/plain": [
       "'RENTRE MA PHRASE'"
      ]
     },
     "execution_count": 24,
     "metadata": {},
     "output_type": "execute_result"
    }
   ],
   "source": [
    "phrase.upper()"
   ]
  },
  {
   "cell_type": "code",
   "execution_count": 30,
   "id": "5fc10e1c",
   "metadata": {},
   "outputs": [
    {
     "data": {
      "text/plain": [
       "'Rentre ma phrase'"
      ]
     },
     "execution_count": 30,
     "metadata": {},
     "output_type": "execute_result"
    }
   ],
   "source": [
    "phrase.capitalize()"
   ]
  },
  {
   "cell_type": "code",
   "execution_count": 26,
   "id": "a1092308",
   "metadata": {},
   "outputs": [],
   "source": [
    "#dir(phrase)"
   ]
  },
  {
   "cell_type": "code",
   "execution_count": 27,
   "id": "69971182",
   "metadata": {},
   "outputs": [
    {
     "data": {
      "text/plain": [
       "3"
      ]
     },
     "execution_count": 27,
     "metadata": {},
     "output_type": "execute_result"
    }
   ],
   "source": [
    "phrase.count(\"e\")"
   ]
  },
  {
   "cell_type": "code",
   "execution_count": 34,
   "id": "59c62cda",
   "metadata": {},
   "outputs": [
    {
     "data": {
      "text/plain": [
       "'un texte un autre texte'"
      ]
     },
     "execution_count": 34,
     "metadata": {},
     "output_type": "execute_result"
    }
   ],
   "source": [
    "\"un texte\"+ \" un autre texte\""
   ]
  },
  {
   "cell_type": "markdown",
   "id": "cac7eb8c",
   "metadata": {},
   "source": [
    "### Quatrième ligne"
   ]
  },
  {
   "cell_type": "code",
   "execution_count": 41,
   "id": "d8cfc4a2",
   "metadata": {},
   "outputs": [],
   "source": [
    "liste_mots = phrase.split(\" \")"
   ]
  },
  {
   "cell_type": "code",
   "execution_count": 35,
   "id": "9b78ce0f",
   "metadata": {},
   "outputs": [
    {
     "data": {
      "text/plain": [
       "['Rentre', 'ma', 'phrase']"
      ]
     },
     "execution_count": 35,
     "metadata": {},
     "output_type": "execute_result"
    }
   ],
   "source": [
    "phrase.split(\" \")"
   ]
  },
  {
   "cell_type": "code",
   "execution_count": 39,
   "id": "4e72b3d7",
   "metadata": {},
   "outputs": [
    {
     "data": {
      "text/plain": [
       "['Ceci', 'est', 'une', 'autre', 'phrase']"
      ]
     },
     "execution_count": 39,
     "metadata": {},
     "output_type": "execute_result"
    }
   ],
   "source": [
    "\"Ceci est une autre phrase\".split(\" \")"
   ]
  },
  {
   "cell_type": "code",
   "execution_count": 43,
   "id": "63bd5f07",
   "metadata": {},
   "outputs": [
    {
     "data": {
      "text/plain": [
       "list"
      ]
     },
     "execution_count": 43,
     "metadata": {},
     "output_type": "execute_result"
    }
   ],
   "source": [
    "type(liste_mots)"
   ]
  },
  {
   "cell_type": "markdown",
   "id": "52a1efcb",
   "metadata": {},
   "source": [
    "Manipuler les listes"
   ]
  },
  {
   "cell_type": "code",
   "execution_count": 44,
   "id": "6e50174b",
   "metadata": {},
   "outputs": [],
   "source": [
    "une_liste = [3,\"un mot\",10,12.4,\"x\"]"
   ]
  },
  {
   "cell_type": "code",
   "execution_count": 45,
   "id": "fceaf07c",
   "metadata": {},
   "outputs": [
    {
     "data": {
      "text/plain": [
       "5"
      ]
     },
     "execution_count": 45,
     "metadata": {},
     "output_type": "execute_result"
    }
   ],
   "source": [
    "len(une_liste)"
   ]
  },
  {
   "cell_type": "code",
   "execution_count": 52,
   "id": "c2e1c872",
   "metadata": {},
   "outputs": [
    {
     "data": {
      "text/plain": [
       "[3, 'un mot', 10, 12.4]"
      ]
     },
     "execution_count": 52,
     "metadata": {},
     "output_type": "execute_result"
    }
   ],
   "source": [
    "une_liste[0:4]"
   ]
  },
  {
   "cell_type": "code",
   "execution_count": 48,
   "id": "aaa57308",
   "metadata": {},
   "outputs": [
    {
     "data": {
      "text/plain": [
       "['un', 2, 1, 3, 4]"
      ]
     },
     "execution_count": 48,
     "metadata": {},
     "output_type": "execute_result"
    }
   ],
   "source": [
    "[\"un\",2] + [1,3,4]"
   ]
  },
  {
   "cell_type": "code",
   "execution_count": 49,
   "id": "865900da",
   "metadata": {},
   "outputs": [],
   "source": [
    "une_liste.append(\"plop\")"
   ]
  },
  {
   "cell_type": "code",
   "execution_count": 50,
   "id": "bf8fb922",
   "metadata": {},
   "outputs": [
    {
     "data": {
      "text/plain": [
       "[3, 'un mot', 10, 12.4, 'x', 'plop']"
      ]
     },
     "execution_count": 50,
     "metadata": {},
     "output_type": "execute_result"
    }
   ],
   "source": [
    "une_liste"
   ]
  },
  {
   "cell_type": "markdown",
   "id": "f5f6c1f3",
   "metadata": {},
   "source": [
    "### Les conditions\n",
    "\n",
    "```` python\n",
    "if [CONDITION] :\n",
    "    Faire action\n",
    "````"
   ]
  },
  {
   "cell_type": "code",
   "execution_count": 55,
   "id": "10196c6f",
   "metadata": {},
   "outputs": [],
   "source": [
    "condition = False\n",
    "\n",
    "if condition:\n",
    "    print(\"Coucou\")"
   ]
  },
  {
   "cell_type": "code",
   "execution_count": 57,
   "id": "51074b53",
   "metadata": {},
   "outputs": [
    {
     "data": {
      "text/plain": [
       "True"
      ]
     },
     "execution_count": 57,
     "metadata": {},
     "output_type": "execute_result"
    }
   ],
   "source": [
    "phrase = \"Ceci est une phrase\"\n",
    "\n",
    "\"est\" in phrase"
   ]
  },
  {
   "cell_type": "code",
   "execution_count": 59,
   "id": "40cdd1ce",
   "metadata": {},
   "outputs": [
    {
     "data": {
      "text/plain": [
       "False"
      ]
     },
     "execution_count": 59,
     "metadata": {},
     "output_type": "execute_result"
    }
   ],
   "source": [
    "(\"est\" in phrase) and (\"sont\" in phrase)"
   ]
  },
  {
   "cell_type": "code",
   "execution_count": 61,
   "id": "fd2799bf",
   "metadata": {},
   "outputs": [
    {
     "data": {
      "text/plain": [
       "1"
      ]
     },
     "execution_count": 61,
     "metadata": {},
     "output_type": "execute_result"
    }
   ],
   "source": [
    "nombre_mots"
   ]
  },
  {
   "cell_type": "code",
   "execution_count": 62,
   "id": "e264dd1f",
   "metadata": {},
   "outputs": [
    {
     "data": {
      "text/plain": [
       "False"
      ]
     },
     "execution_count": 62,
     "metadata": {},
     "output_type": "execute_result"
    }
   ],
   "source": [
    "nombre_mots == 0"
   ]
  },
  {
   "cell_type": "code",
   "execution_count": 60,
   "id": "76878048",
   "metadata": {},
   "outputs": [],
   "source": [
    "if nombre_mots == 0:\n",
    "    print(    \"La liste est vide\"    )"
   ]
  },
  {
   "cell_type": "markdown",
   "id": "349c1e74",
   "metadata": {},
   "source": [
    "```` python\n",
    "if [CONDITION] :\n",
    "    Faire action si condition vérifiée\n",
    "else:\n",
    "    Faire action si condition pas vérifiée\n",
    "````\n",
    "\n",
    "```` python\n",
    "if [CONDITION] :\n",
    "    Faire action si condition vérifiée\n",
    "elif [CONDITION 2]:\n",
    "    Faire action si condition pas vérifiée\n",
    "else:\n",
    "    Faire action si condition pas vérifiée\n",
    "````"
   ]
  },
  {
   "cell_type": "markdown",
   "id": "50b7afe6",
   "metadata": {},
   "source": [
    "### Bloc else : phrase pas vide"
   ]
  },
  {
   "cell_type": "code",
   "execution_count": null,
   "id": "99f1c28b",
   "metadata": {},
   "outputs": [],
   "source": [
    "# Un compteur qu'on initialise à 0\n",
    "compteur = 0\n",
    "for i in liste_mots:\n",
    "    if len(i) >= nombre_min_lettres:\n",
    "        compteur+=1\n",
    "proportion = round(100*compteur/nombre_mots,2)\n",
    "informations = {\"Total\":compteur,\"Proportion\":proportion,\n",
    "               \"Phrase\":phrase,\"Seuil\":nombre_min_lettres}\n",
    "sortie = f\"Proportion de mots avec {nombre_min_lettres} lettres ou plus : {proportion}\"\n",
    "print(sortie)\n",
    "if sortie_fichier:\n",
    "    with open(\"resultat.txt\",\"w\") as f:\n",
    "        f.write(str(informations))"
   ]
  },
  {
   "cell_type": "markdown",
   "id": "f9b6ce4e",
   "metadata": {},
   "source": [
    "### Les boucles"
   ]
  },
  {
   "cell_type": "code",
   "execution_count": 63,
   "id": "babf2db2",
   "metadata": {},
   "outputs": [],
   "source": [
    "un_ensemble = [\"un\",2,\"trois\",4]"
   ]
  },
  {
   "cell_type": "code",
   "execution_count": 68,
   "id": "3ff9cfe3",
   "metadata": {},
   "outputs": [
    {
     "name": "stdout",
     "output_type": "stream",
     "text": [
      "un\n",
      "2\n",
      "trois\n",
      "4\n"
     ]
    }
   ],
   "source": [
    "for element in un_ensemble:\n",
    "    print(element)\n",
    "        \n",
    "#print(un_ensemble[0])\n",
    "#print(un_ensemble[1])\n",
    "#print(un_ensemble[2])\n",
    "#print(un_ensemble[3])"
   ]
  },
  {
   "cell_type": "code",
   "execution_count": 69,
   "id": "248d326f",
   "metadata": {},
   "outputs": [
    {
     "name": "stdout",
     "output_type": "stream",
     "text": [
      "un\n",
      "2\n",
      "trois\n",
      "4\n"
     ]
    }
   ],
   "source": [
    "for e in un_ensemble:\n",
    "    print(e)"
   ]
  },
  {
   "cell_type": "markdown",
   "id": "55b29e64",
   "metadata": {},
   "source": [
    "Compter les mots"
   ]
  },
  {
   "cell_type": "code",
   "execution_count": 70,
   "id": "4bd97b8a",
   "metadata": {},
   "outputs": [
    {
     "data": {
      "text/plain": [
       "['Rentre', 'ma', 'phrase']"
      ]
     },
     "execution_count": 70,
     "metadata": {},
     "output_type": "execute_result"
    }
   ],
   "source": [
    "liste_mots"
   ]
  },
  {
   "cell_type": "code",
   "execution_count": 73,
   "id": "7a000efe",
   "metadata": {},
   "outputs": [],
   "source": [
    "compteur = 0\n",
    "for mot in liste_mots:\n",
    "    if len(mot) >= nombre_min_lettres:\n",
    "        compteur = compteur + 1"
   ]
  },
  {
   "cell_type": "code",
   "execution_count": 74,
   "id": "8630c3ba",
   "metadata": {},
   "outputs": [
    {
     "data": {
      "text/plain": [
       "2"
      ]
     },
     "execution_count": 74,
     "metadata": {},
     "output_type": "execute_result"
    }
   ],
   "source": [
    "compteur"
   ]
  },
  {
   "cell_type": "code",
   "execution_count": 79,
   "id": "973e1686",
   "metadata": {},
   "outputs": [
    {
     "data": {
      "text/plain": [
       "25.0"
      ]
     },
     "execution_count": 79,
     "metadata": {},
     "output_type": "execute_result"
    }
   ],
   "source": [
    "round(100*compteur/nombre_mots,2)"
   ]
  },
  {
   "cell_type": "code",
   "execution_count": 80,
   "id": "6c453f8f",
   "metadata": {},
   "outputs": [],
   "source": [
    "?round"
   ]
  },
  {
   "cell_type": "markdown",
   "id": "34e54984",
   "metadata": {},
   "source": [
    "#### Nième ligne"
   ]
  },
  {
   "cell_type": "code",
   "execution_count": 86,
   "id": "f613554d",
   "metadata": {},
   "outputs": [],
   "source": [
    "informations = {\"Total\":compteur,\n",
    "                \"Proportion\":proportion,\n",
    "                \"Phrase\":phrase,\n",
    "                \"Seuil\":nombre_min_lettres}"
   ]
  },
  {
   "cell_type": "code",
   "execution_count": 85,
   "id": "39e6e38a",
   "metadata": {},
   "outputs": [
    {
     "data": {
      "text/plain": [
       "25.0"
      ]
     },
     "execution_count": 85,
     "metadata": {},
     "output_type": "execute_result"
    }
   ],
   "source": [
    "informations[\"Proportion\"]"
   ]
  },
  {
   "cell_type": "code",
   "execution_count": 90,
   "id": "be074137",
   "metadata": {},
   "outputs": [],
   "source": [
    "mon_dictionnaire = {\"blablbla\":\"valeur associée à blblabl\",\n",
    "                   \"plop\":\"ma valeur\"}"
   ]
  },
  {
   "cell_type": "code",
   "execution_count": 91,
   "id": "443cc856",
   "metadata": {},
   "outputs": [
    {
     "data": {
      "text/plain": [
       "2"
      ]
     },
     "execution_count": 91,
     "metadata": {},
     "output_type": "execute_result"
    }
   ],
   "source": [
    "len(mon_dictionnaire)"
   ]
  },
  {
   "cell_type": "code",
   "execution_count": 92,
   "id": "ad17c34f",
   "metadata": {},
   "outputs": [
    {
     "data": {
      "text/plain": [
       "dict_keys(['blablbla', 'plop'])"
      ]
     },
     "execution_count": 92,
     "metadata": {},
     "output_type": "execute_result"
    }
   ],
   "source": [
    "mon_dictionnaire.keys()"
   ]
  },
  {
   "cell_type": "code",
   "execution_count": 93,
   "id": "d597469a",
   "metadata": {},
   "outputs": [
    {
     "data": {
      "text/plain": [
       "dict"
      ]
     },
     "execution_count": 93,
     "metadata": {},
     "output_type": "execute_result"
    }
   ],
   "source": [
    "type(mon_dictionnaire)"
   ]
  },
  {
   "cell_type": "markdown",
   "id": "9f552dc9",
   "metadata": {},
   "source": [
    "### Formattage de chaine de caractères"
   ]
  },
  {
   "cell_type": "code",
   "execution_count": 95,
   "id": "9aa43baa",
   "metadata": {},
   "outputs": [
    {
     "data": {
      "text/plain": [
       "'Proportion de mots avec 5 lettres ou plus : 25.0'"
      ]
     },
     "execution_count": 95,
     "metadata": {},
     "output_type": "execute_result"
    }
   ],
   "source": [
    "f\"Proportion de mots avec {nombre_min_lettres} lettres ou plus : {proportion}\""
   ]
  },
  {
   "cell_type": "markdown",
   "id": "b9b5fbcb",
   "metadata": {},
   "source": [
    "On aurait pu le faire autrement :"
   ]
  },
  {
   "cell_type": "code",
   "execution_count": 96,
   "id": "aea72db8",
   "metadata": {},
   "outputs": [
    {
     "data": {
      "text/plain": [
       "'Proportion de mots avec 5 lettres ou plus : '"
      ]
     },
     "execution_count": 96,
     "metadata": {},
     "output_type": "execute_result"
    }
   ],
   "source": [
    "\"Proportion de mots avec \"+ str(nombre_min_lettres) + \" lettres ou plus : \""
   ]
  },
  {
   "cell_type": "markdown",
   "id": "14453717",
   "metadata": {},
   "source": [
    "### Lecture/écriture de fichier"
   ]
  },
  {
   "cell_type": "code",
   "execution_count": 99,
   "id": "30423f76",
   "metadata": {},
   "outputs": [],
   "source": [
    " with open(\"nom_fichier.txt\",\"w\") as fichier: # w pour écrire\n",
    "    fichier.write(\"Ceci est une phrae\")"
   ]
  },
  {
   "cell_type": "markdown",
   "id": "2141655e",
   "metadata": {},
   "source": [
    "opération de lecture"
   ]
  },
  {
   "cell_type": "code",
   "execution_count": 100,
   "id": "cc52b9e8",
   "metadata": {},
   "outputs": [
    {
     "name": "stdout",
     "output_type": "stream",
     "text": [
      "['Ceci est une phrae']\n"
     ]
    }
   ],
   "source": [
    "with open(\"nom_fichier.txt\",\"r\") as fichier:\n",
    "    print(fichier.readlines())"
   ]
  }
 ],
 "metadata": {
  "kernelspec": {
   "display_name": "Python 3 (ipykernel)",
   "language": "python",
   "name": "python3"
  },
  "language_info": {
   "codemirror_mode": {
    "name": "ipython",
    "version": 3
   },
   "file_extension": ".py",
   "mimetype": "text/x-python",
   "name": "python",
   "nbconvert_exporter": "python",
   "pygments_lexer": "ipython3",
   "version": "3.9.12"
  }
 },
 "nbformat": 4,
 "nbformat_minor": 5
}
